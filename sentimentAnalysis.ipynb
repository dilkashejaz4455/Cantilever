{
 "cells": [
  {
   "cell_type": "code",
   "execution_count": 1,
   "id": "51a40884-e5d5-40cf-bb5b-a1887e7673d0",
   "metadata": {},
   "outputs": [],
   "source": [
    "import numpy as np\n",
    "import pandas as pd"
   ]
  },
  {
   "cell_type": "code",
   "execution_count": 2,
   "id": "59d75b4a-4195-41dd-85f0-7abcce5a9428",
   "metadata": {},
   "outputs": [],
   "source": [
    "df = pd.read_csv(\"IMDB Dataset.csv\")"
   ]
  },
  {
   "cell_type": "code",
   "execution_count": 3,
   "id": "984d860d-01ca-49d4-bc71-d3ecdc4b307f",
   "metadata": {},
   "outputs": [
    {
     "data": {
      "text/html": [
       "<div>\n",
       "<style scoped>\n",
       "    .dataframe tbody tr th:only-of-type {\n",
       "        vertical-align: middle;\n",
       "    }\n",
       "\n",
       "    .dataframe tbody tr th {\n",
       "        vertical-align: top;\n",
       "    }\n",
       "\n",
       "    .dataframe thead th {\n",
       "        text-align: right;\n",
       "    }\n",
       "</style>\n",
       "<table border=\"1\" class=\"dataframe\">\n",
       "  <thead>\n",
       "    <tr style=\"text-align: right;\">\n",
       "      <th></th>\n",
       "      <th>review</th>\n",
       "      <th>sentiment</th>\n",
       "    </tr>\n",
       "  </thead>\n",
       "  <tbody>\n",
       "    <tr>\n",
       "      <th>0</th>\n",
       "      <td>One of the other reviewers has mentioned that ...</td>\n",
       "      <td>positive</td>\n",
       "    </tr>\n",
       "    <tr>\n",
       "      <th>1</th>\n",
       "      <td>A wonderful little production. &lt;br /&gt;&lt;br /&gt;The...</td>\n",
       "      <td>positive</td>\n",
       "    </tr>\n",
       "    <tr>\n",
       "      <th>2</th>\n",
       "      <td>I thought this was a wonderful way to spend ti...</td>\n",
       "      <td>positive</td>\n",
       "    </tr>\n",
       "    <tr>\n",
       "      <th>3</th>\n",
       "      <td>Basically there's a family where a little boy ...</td>\n",
       "      <td>negative</td>\n",
       "    </tr>\n",
       "    <tr>\n",
       "      <th>4</th>\n",
       "      <td>Petter Mattei's \"Love in the Time of Money\" is...</td>\n",
       "      <td>positive</td>\n",
       "    </tr>\n",
       "  </tbody>\n",
       "</table>\n",
       "</div>"
      ],
      "text/plain": [
       "                                              review sentiment\n",
       "0  One of the other reviewers has mentioned that ...  positive\n",
       "1  A wonderful little production. <br /><br />The...  positive\n",
       "2  I thought this was a wonderful way to spend ti...  positive\n",
       "3  Basically there's a family where a little boy ...  negative\n",
       "4  Petter Mattei's \"Love in the Time of Money\" is...  positive"
      ]
     },
     "execution_count": 3,
     "metadata": {},
     "output_type": "execute_result"
    }
   ],
   "source": [
    "df.head()"
   ]
  },
  {
   "cell_type": "code",
   "execution_count": 4,
   "id": "cc2d0b7f-e131-4170-9fc7-76b780e492a3",
   "metadata": {},
   "outputs": [
    {
     "name": "stdout",
     "output_type": "stream",
     "text": [
      "<class 'pandas.core.frame.DataFrame'>\n",
      "RangeIndex: 50000 entries, 0 to 49999\n",
      "Data columns (total 2 columns):\n",
      " #   Column     Non-Null Count  Dtype \n",
      "---  ------     --------------  ----- \n",
      " 0   review     50000 non-null  object\n",
      " 1   sentiment  50000 non-null  object\n",
      "dtypes: object(2)\n",
      "memory usage: 781.4+ KB\n"
     ]
    }
   ],
   "source": [
    "df.info()"
   ]
  },
  {
   "cell_type": "code",
   "execution_count": 5,
   "id": "be352fc7-c9e6-4823-8ec2-2338b625d3bf",
   "metadata": {},
   "outputs": [],
   "source": [
    "df['review'] = df['review'].str.lower()"
   ]
  },
  {
   "cell_type": "code",
   "execution_count": 6,
   "id": "674b2de3-a4e6-451f-bf6f-1b66e4391a96",
   "metadata": {},
   "outputs": [],
   "source": [
    "import re\n",
    "def remove_html_tags(text):\n",
    "    pattern = re.compile('<.*?>')\n",
    "    return pattern.sub(r'', text)"
   ]
  },
  {
   "cell_type": "code",
   "execution_count": 7,
   "id": "c2f5937a-615f-452d-a77c-2c9051dfc019",
   "metadata": {},
   "outputs": [],
   "source": [
    "df['review'] = df['review'].apply(remove_html_tags)"
   ]
  },
  {
   "cell_type": "code",
   "execution_count": 8,
   "id": "a0c114c6-bc50-4dd3-a2f8-7e5f9197e40e",
   "metadata": {},
   "outputs": [],
   "source": [
    "def remove_url(text):\n",
    "    pattern= re.compile(r'https?://\\S+|www\\.\\S+')\n",
    "    return pattern.sub(r'', text)"
   ]
  },
  {
   "cell_type": "code",
   "execution_count": 9,
   "id": "b20b2fa2-154b-4ea0-92e5-c2c0612103e4",
   "metadata": {},
   "outputs": [],
   "source": [
    "df['review'] = df['review'].apply(remove_url)"
   ]
  },
  {
   "cell_type": "code",
   "execution_count": 10,
   "id": "e9f46457-efa8-4ed4-832c-ab71438d77b7",
   "metadata": {},
   "outputs": [
    {
     "data": {
      "text/plain": [
       "'!\"#$%&\\'()*+,-./:;<=>?@[\\\\]^_`{|}~'"
      ]
     },
     "execution_count": 10,
     "metadata": {},
     "output_type": "execute_result"
    }
   ],
   "source": [
    "import string\n",
    "string.punctuation"
   ]
  },
  {
   "cell_type": "code",
   "execution_count": 11,
   "id": "15c62c3d-d96b-44a6-a303-1626376fd357",
   "metadata": {},
   "outputs": [],
   "source": [
    "exclude = string.punctuation"
   ]
  },
  {
   "cell_type": "code",
   "execution_count": 12,
   "id": "f619f84d-317c-4a1f-99b0-33e022d88f2a",
   "metadata": {},
   "outputs": [],
   "source": [
    "def remove_punc(text):\n",
    "    for char in exclude :\n",
    "        text = text.replace(char,'')\n",
    "    return text"
   ]
  },
  {
   "cell_type": "code",
   "execution_count": 13,
   "id": "be589fb7-378a-46bb-bc2d-b05614e29aa1",
   "metadata": {},
   "outputs": [],
   "source": [
    "df['review'] = df['review'].apply(remove_punc)"
   ]
  },
  {
   "cell_type": "code",
   "execution_count": 14,
   "id": "71e34e37-d13d-442d-90f0-1c1e0eab6360",
   "metadata": {},
   "outputs": [],
   "source": [
    "from textblob import TextBlob"
   ]
  },
  {
   "cell_type": "code",
   "execution_count": 15,
   "id": "335a0f91-3ead-4226-8311-ebf773f93399",
   "metadata": {},
   "outputs": [],
   "source": [
    "def text_corrector(text):\n",
    "    textBlb = TextBlob(text)\n",
    "    corrected_text = str(textBlb.correct())\n",
    "    return corrected_text\n",
    "    "
   ]
  },
  {
   "cell_type": "code",
   "execution_count": 16,
   "id": "4924d234-ce30-48c7-91f5-f2bfb939557b",
   "metadata": {},
   "outputs": [],
   "source": [
    "# df['review'] = df['review'].apply(text_corrector)"
   ]
  },
  {
   "cell_type": "code",
   "execution_count": 17,
   "id": "e4779e03-f64e-465a-ab00-e685593d3d54",
   "metadata": {},
   "outputs": [],
   "source": [
    "import tensorflow as tf\n",
    "from tensorflow.keras.preprocessing.text import Tokenizer\n",
    "from sklearn.model_selection import train_test_split\n",
    "from tensorflow.keras.models import Sequential\n",
    "from tensorflow.keras.layers import Dense, Embedding, LSTM\n",
    "from tensorflow.keras.preprocessing.sequence import pad_sequences"
   ]
  },
  {
   "cell_type": "code",
   "execution_count": 18,
   "id": "3c4b731c-69ac-4703-a1c4-c3d17a16f3d4",
   "metadata": {},
   "outputs": [],
   "source": [
    "df['sentiment'] = df['sentiment'].apply(lambda x: 1 if x == 'positive' else 0)"
   ]
  },
  {
   "cell_type": "code",
   "execution_count": 19,
   "id": "e44b5393-9c9b-41fe-b8f7-975b37162e92",
   "metadata": {},
   "outputs": [],
   "source": [
    "X = df['review']\n",
    "y = df['sentiment']"
   ]
  },
  {
   "cell_type": "code",
   "execution_count": 20,
   "id": "bb04c989-131d-4d91-83b8-d10026645f67",
   "metadata": {},
   "outputs": [],
   "source": [
    "X_train,X_test,y_train,y_test = train_test_split(X,y,test_size=0.3, random_state=42)"
   ]
  },
  {
   "cell_type": "code",
   "execution_count": 21,
   "id": "72b6d55f-243a-4695-bda7-afee176029d6",
   "metadata": {},
   "outputs": [
    {
     "data": {
      "text/plain": [
       "(35000,)"
      ]
     },
     "execution_count": 21,
     "metadata": {},
     "output_type": "execute_result"
    }
   ],
   "source": [
    "X_train.shape"
   ]
  },
  {
   "cell_type": "code",
   "execution_count": 22,
   "id": "bfbb9318-8ae1-460f-b5e2-d0b42482153e",
   "metadata": {},
   "outputs": [],
   "source": [
    "tokenizer = Tokenizer()\n",
    "tokenizer.fit_on_texts(X_train)\n",
    "X_train_padded = pad_sequences(tokenizer.texts_to_sequences(X_train),maxlen=200)\n",
    "X_test_padded = pad_sequences(tokenizer.texts_to_sequences(X_test),maxlen=200)"
   ]
  },
  {
   "cell_type": "code",
   "execution_count": 23,
   "id": "220b584a-8f07-45b0-9800-3025d7ac456b",
   "metadata": {},
   "outputs": [
    {
     "data": {
      "text/plain": [
       "177591"
      ]
     },
     "execution_count": 23,
     "metadata": {},
     "output_type": "execute_result"
    }
   ],
   "source": [
    "len(tokenizer.word_index)"
   ]
  },
  {
   "cell_type": "code",
   "execution_count": 24,
   "id": "dab30597-4acd-4022-b09f-8cea4532e6f9",
   "metadata": {},
   "outputs": [
    {
     "data": {
      "text/html": [
       "<div>\n",
       "<style scoped>\n",
       "    .dataframe tbody tr th:only-of-type {\n",
       "        vertical-align: middle;\n",
       "    }\n",
       "\n",
       "    .dataframe tbody tr th {\n",
       "        vertical-align: top;\n",
       "    }\n",
       "\n",
       "    .dataframe thead th {\n",
       "        text-align: right;\n",
       "    }\n",
       "</style>\n",
       "<table border=\"1\" class=\"dataframe\">\n",
       "  <thead>\n",
       "    <tr style=\"text-align: right;\">\n",
       "      <th></th>\n",
       "      <th>review</th>\n",
       "      <th>sentiment</th>\n",
       "    </tr>\n",
       "  </thead>\n",
       "  <tbody>\n",
       "    <tr>\n",
       "      <th>0</th>\n",
       "      <td>one of the other reviewers has mentioned that ...</td>\n",
       "      <td>1</td>\n",
       "    </tr>\n",
       "    <tr>\n",
       "      <th>1</th>\n",
       "      <td>a wonderful little production the filming tech...</td>\n",
       "      <td>1</td>\n",
       "    </tr>\n",
       "    <tr>\n",
       "      <th>2</th>\n",
       "      <td>i thought this was a wonderful way to spend ti...</td>\n",
       "      <td>1</td>\n",
       "    </tr>\n",
       "    <tr>\n",
       "      <th>3</th>\n",
       "      <td>basically theres a family where a little boy j...</td>\n",
       "      <td>0</td>\n",
       "    </tr>\n",
       "    <tr>\n",
       "      <th>4</th>\n",
       "      <td>petter matteis love in the time of money is a ...</td>\n",
       "      <td>1</td>\n",
       "    </tr>\n",
       "  </tbody>\n",
       "</table>\n",
       "</div>"
      ],
      "text/plain": [
       "                                              review  sentiment\n",
       "0  one of the other reviewers has mentioned that ...          1\n",
       "1  a wonderful little production the filming tech...          1\n",
       "2  i thought this was a wonderful way to spend ti...          1\n",
       "3  basically theres a family where a little boy j...          0\n",
       "4  petter matteis love in the time of money is a ...          1"
      ]
     },
     "execution_count": 24,
     "metadata": {},
     "output_type": "execute_result"
    }
   ],
   "source": [
    "df.head()"
   ]
  },
  {
   "cell_type": "code",
   "execution_count": 25,
   "id": "7c8f433a-22c9-4bed-9252-258b9004d32e",
   "metadata": {},
   "outputs": [
    {
     "data": {
      "text/plain": [
       "(35000, 200)"
      ]
     },
     "execution_count": 25,
     "metadata": {},
     "output_type": "execute_result"
    }
   ],
   "source": [
    "X_train_padded.shape"
   ]
  },
  {
   "cell_type": "code",
   "execution_count": 26,
   "id": "ab585140-68c5-444f-a6df-6f059d706e5c",
   "metadata": {},
   "outputs": [],
   "source": [
    "model = Sequential()\n",
    "model.add(Embedding(input_dim=177592,output_dim=256, input_length=200))\n",
    "model.add(LSTM(256, dropout=0.3, return_sequences=True))\n",
    "model.add(LSTM(128, dropout=0.3))\n",
    "model.add(Dense(1,activation='sigmoid'))"
   ]
  },
  {
   "cell_type": "code",
   "execution_count": 27,
   "id": "796ff28f-c621-4a8c-896b-6dbe44e7e213",
   "metadata": {},
   "outputs": [],
   "source": [
    "model.compile(optimizer='adam', loss='binary_crossentropy',metrics=['accuracy'])"
   ]
  },
  {
   "cell_type": "code",
   "execution_count": 28,
   "id": "5195da87-1789-4354-9adb-b858bd1ac3ae",
   "metadata": {
    "scrolled": true
   },
   "outputs": [
    {
     "name": "stdout",
     "output_type": "stream",
     "text": [
      "Epoch 1/30\n",
      "438/438 [==============================] - 68s 136ms/step - loss: 0.4783 - accuracy: 0.7760 - val_loss: 0.3297 - val_accuracy: 0.8633\n",
      "Epoch 2/30\n",
      "438/438 [==============================] - 59s 134ms/step - loss: 0.2053 - accuracy: 0.9224 - val_loss: 0.2954 - val_accuracy: 0.8771\n",
      "Epoch 3/30\n",
      "438/438 [==============================] - 58s 133ms/step - loss: 0.0783 - accuracy: 0.9746 - val_loss: 0.5521 - val_accuracy: 0.8661\n",
      "Epoch 4/30\n",
      "438/438 [==============================] - 58s 133ms/step - loss: 0.0547 - accuracy: 0.9827 - val_loss: 0.4954 - val_accuracy: 0.8533\n",
      "Epoch 5/30\n",
      "438/438 [==============================] - 59s 134ms/step - loss: 0.0584 - accuracy: 0.9798 - val_loss: 0.5232 - val_accuracy: 0.8576\n",
      "Epoch 6/30\n",
      "438/438 [==============================] - 59s 136ms/step - loss: 0.0449 - accuracy: 0.9852 - val_loss: 0.6557 - val_accuracy: 0.8451\n",
      "Epoch 7/30\n",
      "438/438 [==============================] - 59s 135ms/step - loss: 0.0144 - accuracy: 0.9954 - val_loss: 0.7778 - val_accuracy: 0.8494\n",
      "Epoch 8/30\n",
      "438/438 [==============================] - 58s 133ms/step - loss: 0.0116 - accuracy: 0.9960 - val_loss: 0.7310 - val_accuracy: 0.8583\n",
      "Epoch 9/30\n",
      "438/438 [==============================] - 59s 134ms/step - loss: 0.0136 - accuracy: 0.9956 - val_loss: 0.6057 - val_accuracy: 0.8590\n",
      "Epoch 10/30\n",
      "438/438 [==============================] - 59s 134ms/step - loss: 0.0097 - accuracy: 0.9966 - val_loss: 0.7766 - val_accuracy: 0.8574\n",
      "Epoch 11/30\n",
      "438/438 [==============================] - 58s 133ms/step - loss: 0.0039 - accuracy: 0.9989 - val_loss: 0.7468 - val_accuracy: 0.8543\n",
      "Epoch 12/30\n",
      "438/438 [==============================] - 59s 134ms/step - loss: 0.0106 - accuracy: 0.9966 - val_loss: 0.7817 - val_accuracy: 0.8561\n",
      "Epoch 13/30\n",
      "438/438 [==============================] - 59s 134ms/step - loss: 0.0086 - accuracy: 0.9971 - val_loss: 0.7146 - val_accuracy: 0.8574\n",
      "Epoch 14/30\n",
      "438/438 [==============================] - 58s 134ms/step - loss: 0.0070 - accuracy: 0.9977 - val_loss: 0.7669 - val_accuracy: 0.8571\n",
      "Epoch 15/30\n",
      "438/438 [==============================] - 59s 134ms/step - loss: 0.0045 - accuracy: 0.9987 - val_loss: 0.9941 - val_accuracy: 0.8451\n",
      "Epoch 16/30\n",
      "438/438 [==============================] - 58s 133ms/step - loss: 0.0076 - accuracy: 0.9973 - val_loss: 0.7140 - val_accuracy: 0.8489\n",
      "Epoch 17/30\n",
      "438/438 [==============================] - 58s 133ms/step - loss: 0.0040 - accuracy: 0.9988 - val_loss: 0.7296 - val_accuracy: 0.8606\n",
      "Epoch 18/30\n",
      "438/438 [==============================] - 59s 135ms/step - loss: 0.0035 - accuracy: 0.9989 - val_loss: 0.8152 - val_accuracy: 0.8601\n",
      "Epoch 19/30\n",
      "438/438 [==============================] - 57s 130ms/step - loss: 0.0046 - accuracy: 0.9984 - val_loss: 0.9129 - val_accuracy: 0.8637\n",
      "Epoch 20/30\n",
      "438/438 [==============================] - 59s 134ms/step - loss: 0.0089 - accuracy: 0.9972 - val_loss: 0.6043 - val_accuracy: 0.8484\n",
      "Epoch 21/30\n",
      "438/438 [==============================] - 58s 133ms/step - loss: 0.0048 - accuracy: 0.9985 - val_loss: 0.7901 - val_accuracy: 0.8531\n",
      "Epoch 22/30\n",
      "438/438 [==============================] - 59s 134ms/step - loss: 0.0013 - accuracy: 0.9997 - val_loss: 0.9026 - val_accuracy: 0.8449\n",
      "Epoch 23/30\n",
      "438/438 [==============================] - 59s 134ms/step - loss: 4.3065e-04 - accuracy: 0.9998 - val_loss: 0.9182 - val_accuracy: 0.8547\n",
      "Epoch 24/30\n",
      "438/438 [==============================] - 58s 132ms/step - loss: 7.3099e-05 - accuracy: 1.0000 - val_loss: 1.0607 - val_accuracy: 0.8564\n",
      "Epoch 25/30\n",
      "438/438 [==============================] - 56s 129ms/step - loss: 2.5677e-05 - accuracy: 1.0000 - val_loss: 1.0921 - val_accuracy: 0.8561\n",
      "Epoch 26/30\n",
      "438/438 [==============================] - 59s 135ms/step - loss: 1.2787e-05 - accuracy: 1.0000 - val_loss: 1.1324 - val_accuracy: 0.8557\n",
      "Epoch 27/30\n",
      "438/438 [==============================] - 59s 135ms/step - loss: 9.6734e-06 - accuracy: 1.0000 - val_loss: 1.1564 - val_accuracy: 0.8551\n",
      "Epoch 28/30\n",
      "438/438 [==============================] - 59s 134ms/step - loss: 5.5927e-06 - accuracy: 1.0000 - val_loss: 1.1927 - val_accuracy: 0.8564\n",
      "Epoch 29/30\n",
      "438/438 [==============================] - 59s 135ms/step - loss: 4.8251e-06 - accuracy: 1.0000 - val_loss: 1.2254 - val_accuracy: 0.8556\n",
      "Epoch 30/30\n",
      "438/438 [==============================] - 58s 134ms/step - loss: 3.0260e-06 - accuracy: 1.0000 - val_loss: 1.2556 - val_accuracy: 0.8557\n"
     ]
    },
    {
     "data": {
      "text/plain": [
       "<keras.callbacks.History at 0x1208ca73b50>"
      ]
     },
     "execution_count": 28,
     "metadata": {},
     "output_type": "execute_result"
    }
   ],
   "source": [
    "model.fit(X_train_padded, y_train, epochs=30, batch_size=64, validation_split=0.2)"
   ]
  },
  {
   "cell_type": "code",
   "execution_count": 29,
   "id": "0ff97c29-28ab-45c9-a38c-576a6f890d5d",
   "metadata": {},
   "outputs": [
    {
     "name": "stdout",
     "output_type": "stream",
     "text": [
      "469/469 [==============================] - 17s 36ms/step - loss: 1.1949 - accuracy: 0.8583\n",
      "Test Loss: 1.1949410438537598\n",
      "Test Accuracy: 0.8583333492279053\n"
     ]
    }
   ],
   "source": [
    "loss, accuracy = model.evaluate(X_test_padded, y_test)\n",
    "print(f\"Test Loss: {loss}\")\n",
    "print(f\"Test Accuracy: {accuracy}\")"
   ]
  },
  {
   "cell_type": "code",
   "execution_count": null,
   "id": "7598aff5-ffd5-4aa4-9c8b-1afe6999f860",
   "metadata": {},
   "outputs": [],
   "source": []
  }
 ],
 "metadata": {
  "kernelspec": {
   "display_name": "Python 3 (ipykernel)",
   "language": "python",
   "name": "python3"
  },
  "language_info": {
   "codemirror_mode": {
    "name": "ipython",
    "version": 3
   },
   "file_extension": ".py",
   "mimetype": "text/x-python",
   "name": "python",
   "nbconvert_exporter": "python",
   "pygments_lexer": "ipython3",
   "version": "3.9.19"
  }
 },
 "nbformat": 4,
 "nbformat_minor": 5
}
